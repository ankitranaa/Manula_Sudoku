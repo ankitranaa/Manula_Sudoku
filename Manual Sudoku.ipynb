{
 "cells": [
  {
   "cell_type": "code",
   "execution_count": 1,
   "metadata": {},
   "outputs": [],
   "source": [
    "import pprintpp"
   ]
  },
  {
   "cell_type": "code",
   "execution_count": 2,
   "metadata": {},
   "outputs": [],
   "source": [
    "def solve(bo):\n",
    "    \"\"\" Solves a sudoku board using backtracking. \n",
    "    param bo: 2d list of ints\"\"\"\n",
    "    find=find_empty(bo)\n",
    "    if find:\n",
    "        row,col=find\n",
    "    else:\n",
    "        return True\n",
    "    for i in range(1,10):\n",
    "        if valid(bo,(row,col),i):\n",
    "            bo[row][col]=i\n",
    "            if solve(bo):\n",
    "                return True\n",
    "            bo[row][col]=0\n",
    "    return False"
   ]
  },
  {
   "cell_type": "code",
   "execution_count": 3,
   "metadata": {},
   "outputs": [],
   "source": [
    "def valid(bo,pos,num):\n",
    "    \"\"\"Returns if attemoted move is valid\"\"\"\n",
    "    # Check row\n",
    "    for i in range(len(bo)):\n",
    "        if bo[pos[0]][i]==num and pos[1]!=i:\n",
    "            return False\n",
    "    # Check col\n",
    "    for i in range(len(bo)):\n",
    "        if bo[i][pos[1]]==num and pos[1]!=i:\n",
    "            return False\n",
    "        \n",
    "    # Check box\n",
    "    box_x=pos[1]//3\n",
    "    box_y=pos[0]//3\n",
    "    for i in range(box_y*3,box_y*3+3):\n",
    "        for j in range(box_x*3,box_x*3+3):\n",
    "            if bo[i][j]==num and (i,j)!=pos:\n",
    "                return False\n",
    "    return True"
   ]
  },
  {
   "cell_type": "code",
   "execution_count": 4,
   "metadata": {},
   "outputs": [],
   "source": [
    "def find_empty(bo):\n",
    "    \"\"\"find empty box if any\"\"\"\n",
    "    for i in range(len(bo)):\n",
    "        for j in range(len(bo[0])):\n",
    "            if bo[i][j]==0:\n",
    "                return (i,j)\n",
    "    return None"
   ]
  },
  {
   "cell_type": "code",
   "execution_count": 5,
   "metadata": {},
   "outputs": [],
   "source": [
    "def print_board(bo):\n",
    "    for i in range(len(bo)):\n",
    "        if i % 3 == 0 and i != 0:\n",
    "            print(\"- - - - - - - - - - - - - -\")\n",
    "        for j in range(len(bo[0])):\n",
    "            if j % 3 == 0:\n",
    "                print(\" | \",end=\"\")\n",
    "\n",
    "            if j == 8:\n",
    "                print(bo[i][j], end=\"\\n\")\n",
    "            else:\n",
    "                print(str(bo[i][j]) + \" \", end=\"\")"
   ]
  },
  {
   "cell_type": "code",
   "execution_count": 6,
   "metadata": {},
   "outputs": [],
   "source": [
    "board=[\n",
    "      [7,8,0,4,0,0,1,2,0],\n",
    "      [6,0,0,0,7,5,0,0,9],\n",
    "      [0,0,0,6,0,1,0,7,8],\n",
    "      [0,0,7,0,4,0,2,6,0],\n",
    "      [0,0,1,0,5,0,9,3,0],\n",
    "      [9,0,4,0,6,0,0,0,5],\n",
    "      [0,7,0,3,0,0,0,1,2],\n",
    "      [1,2,0,0,0,7,4,0,0],\n",
    "      [0,4,9,2,0,6,0,0,7]\n",
    "]"
   ]
  },
  {
   "cell_type": "code",
   "execution_count": 10,
   "metadata": {},
   "outputs": [
    {
     "name": "stdout",
     "output_type": "stream",
     "text": [
      "[\n",
      "    [7, 8, 5, 4, 3, 9, 1, 2, 6],\n",
      "    [6, 1, 2, 8, 7, 5, 3, 4, 9],\n",
      "    [4, 9, 3, 6, 2, 1, 5, 7, 8],\n",
      "    [8, 5, 7, 9, 4, 3, 2, 6, 1],\n",
      "    [2, 6, 1, 7, 5, 8, 9, 3, 4],\n",
      "    [9, 3, 4, 1, 6, 2, 7, 8, 5],\n",
      "    [5, 7, 8, 3, 9, 4, 6, 1, 2],\n",
      "    [1, 2, 6, 5, 8, 7, 4, 9, 3],\n",
      "    [3, 4, 9, 2, 1, 6, 8, 5, 7],\n",
      "]\n"
     ]
    }
   ],
   "source": [
    "pp=pprintpp.PrettyPrinter(width=42)\n",
    "solve(board)\n",
    "pp.pprint(board)"
   ]
  },
  {
   "cell_type": "code",
   "execution_count": null,
   "metadata": {},
   "outputs": [],
   "source": []
  }
 ],
 "metadata": {
  "kernelspec": {
   "display_name": "Python 3",
   "language": "python",
   "name": "python3"
  },
  "language_info": {
   "codemirror_mode": {
    "name": "ipython",
    "version": 3
   },
   "file_extension": ".py",
   "mimetype": "text/x-python",
   "name": "python",
   "nbconvert_exporter": "python",
   "pygments_lexer": "ipython3",
   "version": "3.7.9"
  }
 },
 "nbformat": 4,
 "nbformat_minor": 4
}
